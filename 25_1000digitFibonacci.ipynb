{
 "cells": [
  {
   "cell_type": "code",
   "execution_count": 26,
   "id": "71a8d9e3-9164-48f7-be4a-63796e619a7d",
   "metadata": {},
   "outputs": [
    {
     "name": "stdout",
     "output_type": "stream",
     "text": [
      "4787\n"
     ]
    }
   ],
   "source": [
    "n = 1\n",
    "x = 0\n",
    "y = 1\n",
    "z = 0\n",
    "while x < pow(10, 1000):\n",
    "    x = y + z\n",
    "    z = y\n",
    "    y = x\n",
    "    n += 1\n",
    "\n",
    "print(n)"
   ]
  },
  {
   "cell_type": "code",
   "execution_count": null,
   "id": "5ba65e28-bdc6-42cf-a84d-b9557784f207",
   "metadata": {},
   "outputs": [],
   "source": []
  }
 ],
 "metadata": {
  "kernelspec": {
   "display_name": "Python [conda env:base] *",
   "language": "python",
   "name": "conda-base-py"
  },
  "language_info": {
   "codemirror_mode": {
    "name": "ipython",
    "version": 3
   },
   "file_extension": ".py",
   "mimetype": "text/x-python",
   "name": "python",
   "nbconvert_exporter": "python",
   "pygments_lexer": "ipython3",
   "version": "3.12.7"
  }
 },
 "nbformat": 4,
 "nbformat_minor": 5
}
