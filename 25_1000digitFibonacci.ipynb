{
 "cells": [
  {
   "cell_type": "code",
   "execution_count": 45,
   "id": "71a8d9e3-9164-48f7-be4a-63796e619a7d",
   "metadata": {},
   "outputs": [
    {
     "name": "stdout",
     "output_type": "stream",
     "text": [
      "4782\n"
     ]
    }
   ],
   "source": [
    "n = 1\n",
    "x = 0\n",
    "y = 1\n",
    "z = 0\n",
    "while x // 10**999 != 1:\n",
    "    x = y + z\n",
    "    z = y\n",
    "    y = x\n",
    "    n = n + 1\n",
    "\n",
    "print(n)"
   ]
  }
 ],
 "metadata": {
  "kernelspec": {
   "display_name": "Python [conda env:base] *",
   "language": "python",
   "name": "conda-base-py"
  },
  "language_info": {
   "codemirror_mode": {
    "name": "ipython",
    "version": 3
   },
   "file_extension": ".py",
   "mimetype": "text/x-python",
   "name": "python",
   "nbconvert_exporter": "python",
   "pygments_lexer": "ipython3",
   "version": "3.12.7"
  }
 },
 "nbformat": 4,
 "nbformat_minor": 5
}
