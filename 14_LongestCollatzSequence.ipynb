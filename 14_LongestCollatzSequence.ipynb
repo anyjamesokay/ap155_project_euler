{
 "cells": [
  {
   "cell_type": "code",
   "execution_count": null,
   "id": "b93bd346-909a-40c0-b097-a8c8e6ae0f11",
   "metadata": {},
   "outputs": [],
   "source": [
    "n = 1\n",
    "m = 0\n",
    "maxCount = 0\n",
    "while n < 1000000: \n",
    "    x = n\n",
    "    count = 1\n",
    "    while x != 1:\n",
    "        if x % 2 == 0:\n",
    "            x = x / 2\n",
    "        else:\n",
    "            x = (3*x) + 1\n",
    "        count += 1\n",
    "\n",
    "    if count > maxCount:\n",
    "        maxCount = count\n",
    "        m = n\n",
    "    n += 1\n",
    "\n",
    "print(m)"
   ]
  },
  {
   "cell_type": "code",
   "execution_count": null,
   "id": "05d5a717-6924-48fd-8ab1-1947499ce33b",
   "metadata": {},
   "outputs": [],
   "source": []
  }
 ],
 "metadata": {
  "kernelspec": {
   "display_name": "Python [conda env:base] *",
   "language": "python",
   "name": "conda-base-py"
  },
  "language_info": {
   "codemirror_mode": {
    "name": "ipython",
    "version": 3
   },
   "file_extension": ".py",
   "mimetype": "text/x-python",
   "name": "python",
   "nbconvert_exporter": "python",
   "pygments_lexer": "ipython3",
   "version": "3.12.7"
  }
 },
 "nbformat": 4,
 "nbformat_minor": 5
}
